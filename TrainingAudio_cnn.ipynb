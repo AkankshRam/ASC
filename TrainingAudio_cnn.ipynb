{
 "cells": [
  {
   "cell_type": "code",
   "execution_count": 1,
   "id": "05b42e86-188d-4723-bf28-e408cc6cd4f0",
   "metadata": {},
   "outputs": [],
   "source": [
    "import tensorflow as tf\n",
    "from tensorflow import keras\n",
    "import json\n",
    "import numpy as np\n",
    "from sklearn.model_selection import train_test_split"
   ]
  },
  {
   "cell_type": "code",
   "execution_count": 2,
   "id": "0a6c1573-2cb7-4b51-b122-53260bc85035",
   "metadata": {},
   "outputs": [],
   "source": [
    "dataset_path = \"data_final.json\""
   ]
  },
  {
   "cell_type": "code",
   "execution_count": 3,
   "id": "a199dafa-d75a-48f2-911c-0e8625ea896f",
   "metadata": {},
   "outputs": [],
   "source": [
    "def load_dataset(dataset_path):\n",
    "    \n",
    "    with open(dataset_path, 'r') as fp:\n",
    "        \n",
    "        data = json.load(fp)\n",
    "        \n",
    "    inputs = np.array(data['mfcc'])\n",
    "    targets = np.array(data['labels'])\n",
    "    \n",
    "    return inputs, targets"
   ]
  },
  {
   "cell_type": "code",
   "execution_count": 4,
   "id": "2b514540-7908-4536-ad30-547c5646da2d",
   "metadata": {},
   "outputs": [],
   "source": [
    "def prepare_dataset(test_size, validation_size):\n",
    "    \n",
    "    inputs, targets = load_dataset(dataset_path)\n",
    "    \n",
    "    x_train, x_test, y_train, y_test = train_test_split(inputs, targets, test_size = test_size)\n",
    "    \n",
    "    x_train, x_validation, y_train, y_validation = train_test_split(x_train, y_train, test_size = validation_size)\n",
    "    \n",
    "    x_train = x_train.reshape(-1, 130, 13, 1)\n",
    "    x_test = x_test.reshape(-1, 130, 13, 1)\n",
    "    x_validation = x_validation.reshape(-1, 130, 13, 1)\n",
    "    \n",
    "    return x_train, x_validation, x_test, y_train, y_validation, y_test"
   ]
  },
  {
   "cell_type": "code",
   "execution_count": 5,
   "id": "6939f5a6-97e6-4495-81c3-ad332a8c2b0e",
   "metadata": {},
   "outputs": [
    {
     "data": {
      "text/plain": [
       "(7221, 130, 13, 1)"
      ]
     },
     "execution_count": 5,
     "metadata": {},
     "output_type": "execute_result"
    }
   ],
   "source": [
    "x_train, x_validation, x_test, y_train, y_validation, y_test = prepare_dataset(0.15, 0.15)\n",
    "x_train.shape"
   ]
  },
  {
   "cell_type": "code",
   "execution_count": 6,
   "id": "c398cfd6-2089-4f88-83c3-40a7622ceb5f",
   "metadata": {},
   "outputs": [
    {
     "name": "stdout",
     "output_type": "stream",
     "text": [
      "Model: \"sequential\"\n",
      "_________________________________________________________________\n",
      "Layer (type)                 Output Shape              Param #   \n",
      "=================================================================\n",
      "conv2d (Conv2D)              (None, 128, 11, 128)      1280      \n",
      "_________________________________________________________________\n",
      "max_pooling2d (MaxPooling2D) (None, 64, 6, 128)        0         \n",
      "_________________________________________________________________\n",
      "batch_normalization (BatchNo (None, 64, 6, 128)        512       \n",
      "_________________________________________________________________\n",
      "conv2d_1 (Conv2D)            (None, 62, 4, 128)        147584    \n",
      "_________________________________________________________________\n",
      "max_pooling2d_1 (MaxPooling2 (None, 31, 2, 128)        0         \n",
      "_________________________________________________________________\n",
      "batch_normalization_1 (Batch (None, 31, 2, 128)        512       \n",
      "_________________________________________________________________\n",
      "conv2d_2 (Conv2D)            (None, 30, 1, 64)         32832     \n",
      "_________________________________________________________________\n",
      "max_pooling2d_2 (MaxPooling2 (None, 15, 1, 64)         0         \n",
      "_________________________________________________________________\n",
      "batch_normalization_2 (Batch (None, 15, 1, 64)         256       \n",
      "_________________________________________________________________\n",
      "flatten (Flatten)            (None, 960)               0         \n",
      "_________________________________________________________________\n",
      "dense (Dense)                (None, 256)               246016    \n",
      "_________________________________________________________________\n",
      "dropout (Dropout)            (None, 256)               0         \n",
      "_________________________________________________________________\n",
      "dense_1 (Dense)              (None, 256)               65792     \n",
      "_________________________________________________________________\n",
      "dropout_1 (Dropout)          (None, 256)               0         \n",
      "_________________________________________________________________\n",
      "dense_2 (Dense)              (None, 64)                16448     \n",
      "_________________________________________________________________\n",
      "dropout_2 (Dropout)          (None, 64)                0         \n",
      "_________________________________________________________________\n",
      "dense_3 (Dense)              (None, 10)                650       \n",
      "=================================================================\n",
      "Total params: 511,882\n",
      "Trainable params: 511,242\n",
      "Non-trainable params: 640\n",
      "_________________________________________________________________\n"
     ]
    }
   ],
   "source": [
    "model_cnn = keras.Sequential([\n",
    "    keras.layers.Conv2D(128, (3,3), activation='relu', input_shape = (x_train.shape[1],x_train.shape[2],x_train.shape[3])),\n",
    "    keras.layers.MaxPool2D((3,3), strides=(2,2), padding='same'),\n",
    "    keras.layers.BatchNormalization(),\n",
    "    \n",
    "    keras.layers.Conv2D(128, (3,3), activation='relu'),\n",
    "    keras.layers.MaxPool2D((3,3), strides=(2,2), padding='same'),\n",
    "    keras.layers.BatchNormalization(),\n",
    "    \n",
    "    keras.layers.Conv2D(64, (2,2), activation='relu'),\n",
    "    keras.layers.MaxPool2D((2,2), strides=(2,2), padding='same'),\n",
    "    keras.layers.BatchNormalization(),\n",
    "    \n",
    "    keras.layers.Flatten(),\n",
    "    keras.layers.Dense(256, activation='relu'),\n",
    "    keras.layers.Dropout(0.2),\n",
    "    \n",
    "    keras.layers.Dense(256,activation= 'relu'),\n",
    "    keras.layers.Dropout(0.1),\n",
    "    \n",
    "    keras.layers.Dense(64, activation = 'relu'),\n",
    "    keras.layers.Dropout(0.02),\n",
    "    \n",
    "    keras.layers.Dense(10, activation='softmax')\n",
    "])\n",
    "    \n",
    "    \n",
    "model_cnn.summary()\n",
    "    \n",
    "    "
   ]
  },
  {
   "cell_type": "code",
   "execution_count": null,
   "id": "fb19ddf0-5c31-4204-a3ed-8065863fe584",
   "metadata": {},
   "outputs": [
    {
     "name": "stdout",
     "output_type": "stream",
     "text": [
      "Epoch 1/100\n"
     ]
    }
   ],
   "source": [
    "model_cnn.compile(\n",
    "    optimizer='adam',\n",
    "    loss='sparse_categorical_crossentropy',\n",
    "    metrics=['accuracy'])\n",
    "\n",
    "model_cnn.fit(x_train, y_train, validation_data=(x_validation, y_validation), batch_size=32, epochs=100)"
   ]
  },
  {
   "cell_type": "code",
   "execution_count": 17,
   "id": "a7dd8a66-b092-4688-8d04-3012c03e4805",
   "metadata": {},
   "outputs": [
    {
     "name": "stdout",
     "output_type": "stream",
     "text": [
      "47/47 [==============================] - 2s 38ms/step - loss: 1.0518 - accuracy: 0.8080\n"
     ]
    },
    {
     "data": {
      "text/plain": [
       "[1.0518426895141602, 0.8080000281333923]"
      ]
     },
     "execution_count": 17,
     "metadata": {},
     "output_type": "execute_result"
    }
   ],
   "source": [
    "model_cnn.evaluate(x_test, y_test)"
   ]
  },
  {
   "cell_type": "code",
   "execution_count": null,
   "id": "812aa5c2-a078-49ad-b0c4-08e19308b1d9",
   "metadata": {},
   "outputs": [],
   "source": []
  }
 ],
 "metadata": {
  "kernelspec": {
   "display_name": "gpu",
   "language": "python",
   "name": "gpu"
  },
  "language_info": {
   "codemirror_mode": {
    "name": "ipython",
    "version": 3
   },
   "file_extension": ".py",
   "mimetype": "text/x-python",
   "name": "python",
   "nbconvert_exporter": "python",
   "pygments_lexer": "ipython3",
   "version": "3.7.11"
  }
 },
 "nbformat": 4,
 "nbformat_minor": 5
}
